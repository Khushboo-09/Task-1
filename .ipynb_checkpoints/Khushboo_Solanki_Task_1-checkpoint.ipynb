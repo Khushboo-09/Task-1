{
 "cells": [
  {
   "cell_type": "markdown",
   "id": "ffacf53e",
   "metadata": {},
   "source": [
    "# Khushboo Solanki\n",
    "# Task-1 Prediction using Supervised Learning\n",
    "<font size=\"4\">In this task, I will be predicting percentage of the student depending upon the number of hours invested in studies.\n",
    "</br></br>\n",
    "For this, I will be using python Scikit-Learn library for Machine Learning, i.e, training the model.</font>\n"
   ]
  },
  {
   "cell_type": "code",
   "execution_count": 1,
   "id": "240bbf93",
   "metadata": {},
   "outputs": [],
   "source": [
    "#Importing all the required libraries for the given task\n",
    "import pandas as pd\n",
    "import numpy as np  \n",
    "import matplotlib.pyplot as plt  "
   ]
  },
  {
   "cell_type": "code",
   "execution_count": 2,
   "id": "c7c7306d",
   "metadata": {},
   "outputs": [
    {
     "name": "stdout",
     "output_type": "stream",
     "text": [
      "The given data for the task is as follws:\n"
     ]
    },
    {
     "data": {
      "text/html": [
       "<div>\n",
       "<style scoped>\n",
       "    .dataframe tbody tr th:only-of-type {\n",
       "        vertical-align: middle;\n",
       "    }\n",
       "\n",
       "    .dataframe tbody tr th {\n",
       "        vertical-align: top;\n",
       "    }\n",
       "\n",
       "    .dataframe thead th {\n",
       "        text-align: right;\n",
       "    }\n",
       "</style>\n",
       "<table border=\"1\" class=\"dataframe\">\n",
       "  <thead>\n",
       "    <tr style=\"text-align: right;\">\n",
       "      <th></th>\n",
       "      <th>Hours</th>\n",
       "      <th>Scores</th>\n",
       "    </tr>\n",
       "  </thead>\n",
       "  <tbody>\n",
       "    <tr>\n",
       "      <th>0</th>\n",
       "      <td>2.5</td>\n",
       "      <td>21</td>\n",
       "    </tr>\n",
       "    <tr>\n",
       "      <th>1</th>\n",
       "      <td>5.1</td>\n",
       "      <td>47</td>\n",
       "    </tr>\n",
       "    <tr>\n",
       "      <th>2</th>\n",
       "      <td>3.2</td>\n",
       "      <td>27</td>\n",
       "    </tr>\n",
       "    <tr>\n",
       "      <th>3</th>\n",
       "      <td>8.5</td>\n",
       "      <td>75</td>\n",
       "    </tr>\n",
       "    <tr>\n",
       "      <th>4</th>\n",
       "      <td>3.5</td>\n",
       "      <td>30</td>\n",
       "    </tr>\n",
       "  </tbody>\n",
       "</table>\n",
       "</div>"
      ],
      "text/plain": [
       "   Hours  Scores\n",
       "0    2.5      21\n",
       "1    5.1      47\n",
       "2    3.2      27\n",
       "3    8.5      75\n",
       "4    3.5      30"
      ]
     },
     "execution_count": 2,
     "metadata": {},
     "output_type": "execute_result"
    }
   ],
   "source": [
    "#Importing  the data set for the given task\n",
    "url =  \"http://bit.ly/w-data\"\n",
    "data = pd.read_csv(url)\n",
    "print(\"The given data for the task is as follws:\")\n",
    "data.head()"
   ]
  },
  {
   "cell_type": "markdown",
   "id": "ad33b264",
   "metadata": {},
   "source": [
    "<font size = \"4\">As we can see that there are only two variables involved.Therefore we can plot a 2-D graph to understand \n",
    "the relationship between them.</font>"
   ]
  },
  {
   "cell_type": "code",
   "execution_count": 3,
   "id": "bf299c0e",
   "metadata": {},
   "outputs": [
    {
     "data": {
      "image/png": "[encoded data removed]",
      "text/plain": [
       "<Figure size 432x288 with 1 Axes>"
      ]
     },
     "metadata": {
      "needs_background": "light"
     },
     "output_type": "display_data"
    }
   ],
   "source": [
    "# Plotting the distribution of scores\n",
    "data.plot(x='Hours', y='Scores', style='o', color=\"red\")  \n",
    "plt.title('Hours vs Percentage')  \n",
    "plt.xlabel('Hours invested in Studies')  \n",
    "plt.ylabel('Percentage Score')  \n",
    "plt.show()"
   ]
  },
  {
   "cell_type": "markdown",
   "id": "fc09aea4",
   "metadata": {},
   "source": [
    "<font size=\"4\">It is clearly evident from the graph that there is positive linear relationship between the hours invested in studies and percentage score.</font>\n"
   ]
  },
  {
   "cell_type": "markdown",
   "id": "3216cb12",
   "metadata": {},
   "source": [
    "# Preparation of Data\n",
    "<font size=\"4\">Now, I will prepare the data for creating the model</font>\n"
   ]
  },
  {
   "cell_type": "code",
   "execution_count": 4,
   "id": "8e4e9600",
   "metadata": {},
   "outputs": [],
   "source": [
    "X =data.iloc[:,:-1].values\n",
    "Y = data.iloc[:,1].values"
   ]
  },
  {
   "cell_type": "markdown",
   "id": "dd99ba58",
   "metadata": {},
   "source": [
    "# Splitting the Data\n",
    "<font size=\"4\"> Now, I will split the data for training and testing part.</font>\n"
   ]
  },
  {
   "cell_type": "code",
   "execution_count": 5,
   "id": "83d7ca7d",
   "metadata": {},
   "outputs": [],
   "source": [
    "from sklearn.model_selection import train_test_split\n",
    "X_train,X_test,Y_train,Y_test = train_test_split(X,Y, test_size =0.2, random_state = 0)\n"
   ]
  },
  {
   "cell_type": "markdown",
   "id": "d2e55131",
   "metadata": {},
   "source": [
    "# Model Creation\n",
    "<font size=\"4\">Model Creation using LinearRegression</font>\n"
   ]
  },
  {
   "cell_type": "code",
   "execution_count": 6,
   "id": "fc87fabf",
   "metadata": {},
   "outputs": [
    {
     "name": "stdout",
     "output_type": "stream",
     "text": [
      "Model Trained\n"
     ]
    }
   ],
   "source": [
    "from sklearn.linear_model import LinearRegression\n",
    "LR = LinearRegression()\n",
    "LR.fit(X_train,Y_train)\n",
    "print(\"Model Trained\")"
   ]
  },
  {
   "cell_type": "code",
   "execution_count": 7,
   "id": "571c4906",
   "metadata": {},
   "outputs": [
    {
     "data": {
      "image/png": "[encoded data removed]",
      "text/plain": [
       "<Figure size 432x288 with 1 Axes>"
      ]
     },
     "metadata": {
      "needs_background": "light"
     },
     "output_type": "display_data"
    }
   ],
   "source": [
    "# Plotting the regression line\n",
    "Line = LR.coef_*X+LR.intercept_\n",
    "\n",
    "# Plotting for the test data\n",
    "plt.scatter(X, Y,color = 'r')\n",
    "plt.plot(X, Line, color = \"r\");\n",
    "plt.show()"
   ]
  },
  {
   "cell_type": "markdown",
   "id": "fe436845",
   "metadata": {},
   "source": [
    "# Prediction of Values of Score in Testing Dataset\n"
   ]
  },
  {
   "cell_type": "code",
   "execution_count": 8,
   "id": "b96aee0c",
   "metadata": {},
   "outputs": [],
   "source": [
    "#Making Predictions\n",
    "Y_predicted = LR.predict(X_test)\n"
   ]
  },
  {
   "cell_type": "code",
   "execution_count": 9,
   "id": "51f578fd",
   "metadata": {},
   "outputs": [
    {
     "data": {
      "text/html": [
       "<div>\n",
       "<style scoped>\n",
       "    .dataframe tbody tr th:only-of-type {\n",
       "        vertical-align: middle;\n",
       "    }\n",
       "\n",
       "    .dataframe tbody tr th {\n",
       "        vertical-align: top;\n",
       "    }\n",
       "\n",
       "    .dataframe thead th {\n",
       "        text-align: right;\n",
       "    }\n",
       "</style>\n",
       "<table border=\"1\" class=\"dataframe\">\n",
       "  <thead>\n",
       "    <tr style=\"text-align: right;\">\n",
       "      <th></th>\n",
       "      <th>Actual Values of Score</th>\n",
       "      <th>Predicted Values of Score</th>\n",
       "    </tr>\n",
       "  </thead>\n",
       "  <tbody>\n",
       "    <tr>\n",
       "      <th>0</th>\n",
       "      <td>20</td>\n",
       "      <td>16.884145</td>\n",
       "    </tr>\n",
       "    <tr>\n",
       "      <th>1</th>\n",
       "      <td>27</td>\n",
       "      <td>33.732261</td>\n",
       "    </tr>\n",
       "    <tr>\n",
       "      <th>2</th>\n",
       "      <td>69</td>\n",
       "      <td>75.357018</td>\n",
       "    </tr>\n",
       "    <tr>\n",
       "      <th>3</th>\n",
       "      <td>30</td>\n",
       "      <td>26.794801</td>\n",
       "    </tr>\n",
       "    <tr>\n",
       "      <th>4</th>\n",
       "      <td>62</td>\n",
       "      <td>60.491033</td>\n",
       "    </tr>\n",
       "  </tbody>\n",
       "</table>\n",
       "</div>"
      ],
      "text/plain": [
       "   Actual Values of Score  Predicted Values of Score\n",
       "0                      20                  16.884145\n",
       "1                      27                  33.732261\n",
       "2                      69                  75.357018\n",
       "3                      30                  26.794801\n",
       "4                      62                  60.491033"
      ]
     },
     "execution_count": 9,
     "metadata": {},
     "output_type": "execute_result"
    }
   ],
   "source": [
    "# Comparing actual and predicted values of score\n",
    "df = pd.DataFrame({'Actual Values of Score':Y_test, 'Predicted Values of Score': Y_predicted})\n",
    "df"
   ]
  },
  {
   "cell_type": "markdown",
   "id": "236fa47b",
   "metadata": {},
   "source": [
    "# Predicting the value given in Task"
   ]
  },
  {
   "cell_type": "code",
   "execution_count": 10,
   "id": "3fabf530",
   "metadata": {},
   "outputs": [
    {
     "name": "stdout",
     "output_type": "stream",
     "text": [
      "Test Value for hours:  9.25\n",
      "Predicted value of Score:  93.69173248737535\n"
     ]
    }
   ],
   "source": [
    "#Testing the values of hours as given in the task\n",
    "test_value = 9.25\n",
    "predicted_value = LR.predict([[test_value]])\n",
    "print(\"Test Value for hours: \",test_value)\n",
    "print(\"Predicted value of Score: \",predicted_value[0])"
   ]
  },
  {
   "cell_type": "markdown",
   "id": "04008796",
   "metadata": {},
   "source": [
    "# Model Evaluation"
   ]
  },
  {
   "cell_type": "code",
   "execution_count": 11,
   "id": "ab7a2909",
   "metadata": {},
   "outputs": [
    {
     "data": {
      "text/plain": [
       "21.598769307217406"
      ]
     },
     "execution_count": 11,
     "metadata": {},
     "output_type": "execute_result"
    }
   ],
   "source": [
    "from sklearn.metrics import mean_squared_error\n",
    "mean_squared_error(Y_test,Y_predicted)"
   ]
  },
  {
   "cell_type": "code",
   "execution_count": null,
   "id": "a8cf043d",
   "metadata": {},
   "outputs": [],
   "source": []
  },
  {
   "cell_type": "code",
   "execution_count": null,
   "id": "d5844456",
   "metadata": {},
   "outputs": [],
   "source": []
  }
 ],
 "metadata": {
  "kernelspec": {
   "display_name": "Python 3",
   "language": "python",
   "name": "python3"
  },
  "language_info": {
   "codemirror_mode": {
    "name": "ipython",
    "version": 3
   },
   "file_extension": ".py",
   "mimetype": "text/x-python",
   "name": "python",
   "nbconvert_exporter": "python",
   "pygments_lexer": "ipython3",
   "version": "3.9.5"
  }
 },
 "nbformat": 4,
 "nbformat_minor": 5
}
